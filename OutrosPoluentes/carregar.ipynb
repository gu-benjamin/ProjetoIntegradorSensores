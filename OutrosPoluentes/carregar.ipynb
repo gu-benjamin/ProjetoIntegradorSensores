{
 "cells": [
  {
   "cell_type": "markdown",
   "metadata": {},
   "source": [
    "##### Padronizacao"
   ]
  },
  {
   "cell_type": "code",
   "execution_count": 1,
   "metadata": {},
   "outputs": [],
   "source": [
    "import pandas as pd\n",
    "\n",
    "dadosDiadema = pd.read_csv(r\"C:\\Users\\50749314877\\Desktop\\Git\\ProjetoIntegradorSensores\\OutrosPoluentes\\diadema,-são paulo-air-quality.csv\")\n",
    "dadosItaim = pd.read_csv(r\"C:\\Users\\50749314877\\Desktop\\Git\\ProjetoIntegradorSensores\\OutrosPoluentes\\itaim-paulista, são paulo-air-quality.csv\")\n",
    "dadosItaquera = pd.read_csv(r\"C:\\Users\\50749314877\\Desktop\\Git\\ProjetoIntegradorSensores\\OutrosPoluentes\\itaquera,-são paulo-air-quality.csv\")\n",
    "dadosMooca = pd.read_csv(r\"C:\\Users\\50749314877\\Desktop\\Git\\ProjetoIntegradorSensores\\OutrosPoluentes\\mooca,-são paulo-air-quality.csv\")\n",
    "dadosSantoandre = pd.read_csv(r\"C:\\Users\\50749314877\\Desktop\\Git\\ProjetoIntegradorSensores\\OutrosPoluentes\\s.andré-capuava,-são paulo-air-quality.csv\")\n",
    "dadosSaoBernardo = pd.read_csv(r\"C:\\Users\\50749314877\\Desktop\\Git\\ProjetoIntegradorSensores\\OutrosPoluentes\\s.bernardo-centro,-são paulo-air-quality.csv\")"
   ]
  },
  {
   "cell_type": "code",
   "execution_count": 4,
   "metadata": {},
   "outputs": [
    {
     "name": "stdout",
     "output_type": "stream",
     "text": [
      "Processamento concluído.\n"
     ]
    }
   ],
   "source": [
    "import pandas as pd\n",
    "import glob\n",
    "\n",
    "# Dicionário com os dados de latitude e longitude por região\n",
    "coordenadas = {\n",
    "    \"Sao Bernardo\": {\"latitude\": -23.701934820154197, \"longitude\": -46.553310586836886},\n",
    "    \"Santo Andre\": {\"latitude\": -23.658138559401298, \"longitude\": -46.48984790027418},\n",
    "    \"Diadema\": {\"latitude\": -23.685313382167138, \"longitude\": -46.625954889892164},\n",
    "    \"Itaquera\": {\"latitude\": -23.541638970943424, \"longitude\": -46.47125736949073},\n",
    "    \"Itaim Paulista\": {\"latitude\": -23.499440086125986, \"longitude\": -46.39547580760927},\n",
    "    \"Mooca\": {\"latitude\": -23.55817427309982, \"longitude\": -46.60807618968641},\n",
    "}\n",
    "\n",
    "# Caminho para todos os arquivos CSV\n",
    "arquivos_csv = glob.glob(\"*.csv\")  # Ajuste o caminho se necessário\n",
    "\n",
    "# Processa cada arquivo CSV\n",
    "for arquivo in arquivos_csv:\n",
    "    # Lê o arquivo\n",
    "    df = pd.read_csv(arquivo)\n",
    "    \n",
    "    # Extrai a região do nome do arquivo (assumindo que está no nome, ex.: \"Santo Andre.csv\")\n",
    "    regiao = arquivo.split(\".csv\")[0]\n",
    "    \n",
    "    # Adiciona latitude e longitude, se a região existir no dicionário\n",
    "    if regiao in coordenadas:\n",
    "        df[\"latitude\"] = coordenadas[regiao][\"latitude\"]\n",
    "        df[\"longitude\"] = coordenadas[regiao][\"longitude\"]\n",
    "    else:\n",
    "        print(f\"Região não encontrada no dicionário: {regiao}\")\n",
    "        continue\n",
    "\n",
    "    # Salva o arquivo atualizado\n",
    "    df.to_csv(f\"{regiao}_atualizado.csv\", index=False)\n",
    "\n",
    "print(\"Processamento concluído.\")\n"
   ]
  },
  {
   "cell_type": "code",
   "execution_count": null,
   "metadata": {},
   "outputs": [],
   "source": [
    "import pymysql\n",
    "import csv\n",
    "from datetime import datetime\n",
    "import glob\n",
    "\n",
    "# Conexão com o banco de dados\n",
    "connection = pymysql.connect(\n",
    "    host='localhost',\n",
    "    user='root',\n",
    "    password='525748',\n",
    "    database='bd_medicao'\n",
    ")\n",
    "\n",
    "# Função para converter valores em string para float, tratando espaços em branco ou valores inválidos\n",
    "def convert_to_float(value):\n",
    "    try:\n",
    "        return float(value.strip()) if value.strip() else 0.0  # Substituir vazio por 0.0\n",
    "    except ValueError:\n",
    "        return 0.0  # Substituir erro de conversão por 0.0\n",
    "\n",
    "# Função para processar um arquivo CSV\n",
    "def process_csv_file(csv_file_path, connection):\n",
    "    with open(csv_file_path, encoding='utf-8') as csv_file:\n",
    "        csv_data = csv.reader(csv_file)\n",
    "        next(csv_data)  # Ignora o cabeçalho\n",
    "\n",
    "        cursor = connection.cursor()\n",
    "        for row in csv_data:\n",
    "            try:\n",
    "                # Ajustar o formato da data para 'YYYY/MM/DD'\n",
    "                date = datetime.strptime(row[0].strip(), '%Y/%m/%d')\n",
    "\n",
    "                # Extrair os valores dos poluentes com a função convert_to_float\n",
    "                pm25 = convert_to_float(row[1])\n",
    "                pm10 = convert_to_float(row[2])\n",
    "                o3 = convert_to_float(row[3])\n",
    "                no2 = convert_to_float(row[4])\n",
    "                so2 = convert_to_float(row[5]) if len(row) > 5 else 0.0\n",
    "                co = convert_to_float(row[6]) if len(row) > 6 else 0.0\n",
    "\n",
    "                # Inserir no banco de dados\n",
    "                cursor.execute(\"\"\"\n",
    "                    INSERT INTO dados_poluentes (tempo_registro, pm25, pm10, o3, no2, so2, co) \n",
    "                    VALUES (%s, %s, %s, %s, %s, %s, %s)\n",
    "                \"\"\", (date, pm25, pm10, o3, no2, so2, co))\n",
    "\n",
    "            except Exception as e:\n",
    "                print(f\"Erro ao processar linha: {row}. Erro: {e}\")\n",
    "\n",
    "        connection.commit()\n",
    "        print(f\"Arquivo {csv_file_path} processado com sucesso!\")\n",
    "\n",
    "# Caminho para os arquivos CSV\n",
    "arquivos_csv = glob.glob(\"caminho_para_seus_csvs/*.csv\")  # Ajuste o caminho aqui\n",
    "\n",
    "# Processa cada arquivo CSV\n",
    "for arquivo in arquivos_csv:\n",
    "    process_csv_file(arquivo, connection)\n",
    "\n",
    "# Fecha a conexão com o banco\n",
    "connection.close()\n",
    "print(\"Todos os arquivos foram processados e os dados inseridos no banco!\")"
   ]
  }
 ],
 "metadata": {
  "kernelspec": {
   "display_name": "Python 3",
   "language": "python",
   "name": "python3"
  },
  "language_info": {
   "codemirror_mode": {
    "name": "ipython",
    "version": 3
   },
   "file_extension": ".py",
   "mimetype": "text/x-python",
   "name": "python",
   "nbconvert_exporter": "python",
   "pygments_lexer": "ipython3",
   "version": "3.12.1"
  }
 },
 "nbformat": 4,
 "nbformat_minor": 2
}
